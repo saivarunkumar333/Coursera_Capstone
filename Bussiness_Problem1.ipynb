{
 "cells": [
  {
   "cell_type": "markdown",
   "metadata": {},
   "source": [
    "# THARUN my friend wants to start a Gaming Zone in USA. Where would be the best place to install a Gaming Zone?"
   ]
  },
  {
   "cell_type": "markdown",
   "metadata": {},
   "source": [
    "\n",
    "Final Report\n",
    "\n",
    "By GOWLA SAI VARUN KUMAR\n",
    "\n",
    "keywords: Gaming Arcade, Machine Learning, K Means, Python, Data Science, Normalization, Merging, Beautiful Soup\n",
    "\n"
   ]
  },
  {
   "cell_type": "markdown",
   "metadata": {},
   "source": [
    "# Business Understanding\n",
    "Installing a Gaming Zone in a place should be done strategically.\n",
    "\n",
    "1) You should know why to start off with a place in particular?\n",
    "\n",
    "2) If a place is chosen, you must have a very clear understanding of who would your potential customers be?\n",
    "\n",
    "3) You need to have a clear understanding of the customers spending patterns in that locality etc.\n",
    "\n",
    "4) You need to take care of the legal aspects involved in that locality.\n",
    "\n",
    "5) You need to know peak hours of Business.\n",
    "\n",
    "6) You should be able to meet the demand."
   ]
  },
  {
   "cell_type": "markdown",
   "metadata": {},
   "source": [
    "# Brief understanding of Data"
   ]
  },
  {
   "cell_type": "markdown",
   "metadata": {},
   "source": [
    "Here's some brief about the locaions in particular(source: wikipedia):\n",
    "\n",
    "As defined by the United States Census Bureau, an \"incorporated place\" includes a variety of designations, including city, town, village, borough, and municipality. A few exceptional census-designated places (CDPs) are also included in the Census Bureau's listing of incorporated places. Consolidated city-counties represent a distinct type of government that includes the entire population of a county, or county equivalent. Some consolidated city-counties, however, include multiple incorporated places.\n",
    "\n",
    "About the State income levels: State income levels and income data for the United States as a whole are included for comparison. Note that county-equivalents in Louisiana are called \"parishes\" and in Alaska are called in \"boroughs,\" and also that in Alaska census areas in the Unorganized Borough are county-equivalents. For states where independent cities are county-equivalents, the word \"city\" is included to identify the independent cities and to differentiate them from counties with identical names; the counties with the identical names have the word \"county\" following them. The word \"county\" is included in the names of counties that have names identical to the names of U.S. states or cities to differentiate them"
   ]
  },
  {
   "cell_type": "markdown",
   "metadata": {},
   "source": [
    "# Problem"
   ]
  },
  {
   "cell_type": "markdown",
   "metadata": {},
   "source": [
    "## From the above given data we need to find Where would be the best place to install a Gaming Zone?"
   ]
  },
  {
   "cell_type": "markdown",
   "metadata": {},
   "source": [
    "### Tools needed"
   ]
  },
  {
   "cell_type": "markdown",
   "metadata": {},
   "source": [
    "1) IBM Watson Account Foursquare API\n",
    "\n",
    "2) Foursquare API\n",
    "\n",
    "3) Jupyter Notebooks\n",
    "\n",
    "4) List of United States countries by per capita income\n",
    "\n",
    "5) List of United States cities by population\n"
   ]
  },
  {
   "cell_type": "markdown",
   "metadata": {},
   "source": [
    "# Methodology"
   ]
  },
  {
   "cell_type": "markdown",
   "metadata": {},
   "source": [
    "In order to do the analysis and suggest the best location, following are the steps we have to follow :\n",
    "\n",
    "1) The Wikipedia page (https://en.wikipedia.org/wiki/List_of_United_States_counties_by_per_capita_income) was scraped using the    BeautifulSoup library to build a pandas dataframe listing the cities, states and percapita income. The dataframe was cleaned    and processed appropriately.\n",
    "\n",
    "2) The Wikipedia page (https://en.wikipedia.org/wiki/List_of_United_States_cities_by_population) was scraped using the      BeautifulSoup library to build a pandas dataframe listing the cities, states, coordinates, area and population density. The  dataframe was cleaned and processed appropriately.\n",
    "\n",
    "3) The Foursquare API is then used to get the venues in each city of United States\n",
    "\n",
    "4) Based on the categories of each venue as decided by the CEO, we have assigned weights to each of them and got the city that  has the maximum weight.\n",
    "\n",
    "5) Once the city is finalized, we again use Four Square API to get the venues within that city and assign weights to each category.\n",
    "\n",
    "6) We will now use K means to cluster the venues based on the category and get the coordinates of the cluster that has maximum weight which is also our preferred location to setup a gaming arcade."
   ]
  },
  {
   "cell_type": "code",
   "execution_count": null,
   "metadata": {},
   "outputs": [],
   "source": []
  }
 ],
 "metadata": {
  "kernelspec": {
   "display_name": "Python 3",
   "language": "python",
   "name": "python3"
  },
  "language_info": {
   "codemirror_mode": {
    "name": "ipython",
    "version": 3
   },
   "file_extension": ".py",
   "mimetype": "text/x-python",
   "name": "python",
   "nbconvert_exporter": "python",
   "pygments_lexer": "ipython3",
   "version": "3.7.3"
  }
 },
 "nbformat": 4,
 "nbformat_minor": 2
}
