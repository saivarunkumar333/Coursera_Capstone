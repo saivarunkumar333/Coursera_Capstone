{
 "cells": [
  {
   "cell_type": "markdown",
   "metadata": {
    "collapsed": true
   },
   "source": [
    "# Capstone Project - The Battle of Neighborhoods"
   ]
  },
  {
   "cell_type": "markdown",
   "metadata": {},
   "source": [
    "## Introduction"
   ]
  },
  {
   "cell_type": "markdown",
   "metadata": {},
   "source": [
    "Toronto is the most populous city in Canada with almost 3million inhabitants and its number of restaurants per capita is bellow many other cities (16th place worldwide with 272 restaurants per 100.000 inhabitants).\n",
    "For many expats having a local restaurant nearby is a great way to remember their roots and taste some home dishes and this can present great business opportunities."
   ]
  },
  {
   "cell_type": "markdown",
   "metadata": {},
   "source": [
    "## Business Problem"
   ]
  },
  {
   "cell_type": "markdown",
   "metadata": {},
   "source": [
    "The goal for this Capstone project is to suggest the best locations for a new Indian restaurant in Toronto, Canada. Indian Canadians account for more than 640,000 people just in Toronto, that alone can be a driver for new businesses in the restauration domain. Apart from that Indian cuisine is one of the best in the world so that could attract investors too.\n",
    "In summary the goal is to answer the following question: If an investor is looking to open a new Indian restaurant where would you recommend, they open it?"
   ]
  },
  {
   "cell_type": "markdown",
   "metadata": {},
   "source": [
    "## Target Audience"
   ]
  },
  {
   "cell_type": "markdown",
   "metadata": {},
   "source": [
    "This project can be useful both for new investors looking to open new Portuguese themed restaurants and also for existing owners looking to expand or have an insight on the current concentration of businesses around Toronto."
   ]
  },
  {
   "cell_type": "markdown",
   "metadata": {},
   "source": [
    "## Data"
   ]
  },
  {
   "cell_type": "markdown",
   "metadata": {},
   "source": [
    "In order to solve the problem we need the following data:\n",
    "\n",
    "\n",
    "•\tList of neighbourhoods in Toronto, defining the boundaries in terms of segmentation for attractiveness for new restaurants.\n",
    "\n",
    "\n",
    "•\tLatitude and longitude coordinates for those neighbourhoods in order to be able to plot the maps and also to get existing restaurants in the area\n",
    "\n",
    "\n",
    "•\tVenue data related to Portuguese Restaurants in order to perform clustering on the neighbourhoods.\n",
    "\n",
    "\n",
    "Sources of data:\n",
    "\n",
    "\n",
    "Toronto Neighbourhoods on Wikipedia (https://en.wikipedia.org/wiki/List_of_postal_codes_of_Canada:_M)\n",
    "\n",
    "\n",
    "Toronto Geospatial coordinates (https://cocl.us/Geospatial_data )\n",
    "\n",
    "\n",
    "\n",
    "Foursquare API for Venue data regarding the Indian Restaurants https://developer.foursquare.com/docs/resources/categories  \n",
    "\n",
    "\n",
    "Category Id: 4bf58dd8d48988d10f941735"
   ]
  },
  {
   "cell_type": "code",
   "execution_count": null,
   "metadata": {},
   "outputs": [],
   "source": []
  }
 ],
 "metadata": {
  "kernelspec": {
   "display_name": "Python 3.6",
   "language": "python",
   "name": "python3"
  },
  "language_info": {
   "codemirror_mode": {
    "name": "ipython",
    "version": 3
   },
   "file_extension": ".py",
   "mimetype": "text/x-python",
   "name": "python",
   "nbconvert_exporter": "python",
   "pygments_lexer": "ipython3",
   "version": "3.6.8"
  }
 },
 "nbformat": 4,
 "nbformat_minor": 1
}
